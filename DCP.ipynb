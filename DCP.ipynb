{
 "cells": [
  {
   "cell_type": "code",
   "execution_count": 3,
   "metadata": {},
   "outputs": [
    {
     "name": "stdout",
     "output_type": "stream",
     "text": [
      "expression curvature = CONVEX\n",
      "expression sign = NONNEGATIVE\n",
      "expression is DCP? True\n"
     ]
    }
   ],
   "source": [
    "# DCP analysis in CVXPY\n",
    "import cvxpy as cvx\n",
    "x = cvx.Variable()\n",
    "y = cvx.Variable()\n",
    "expr = cvx.quad_over_lin(x - y, 1 - cvx.maximum(x,y))\n",
    "print(\"expression curvature =\", expr.curvature)\n",
    "print(\"expression sign =\", expr.sign)\n",
    "print(\"expression is DCP?\", expr.is_dcp())"
   ]
  },
  {
   "cell_type": "code",
   "execution_count": null,
   "metadata": {},
   "outputs": [],
   "source": []
  }
 ],
 "metadata": {
  "kernelspec": {
   "display_name": "Python 3",
   "language": "python",
   "name": "python3"
  },
  "language_info": {
   "codemirror_mode": {
    "name": "ipython",
    "version": 3
   },
   "file_extension": ".py",
   "mimetype": "text/x-python",
   "name": "python",
   "nbconvert_exporter": "python",
   "pygments_lexer": "ipython3",
   "version": "3.6.5"
  }
 },
 "nbformat": 4,
 "nbformat_minor": 1
}
