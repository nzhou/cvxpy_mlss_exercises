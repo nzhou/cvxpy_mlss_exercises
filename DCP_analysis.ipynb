{
 "cells": [
  {
   "cell_type": "markdown",
   "metadata": {},
   "source": [
    "# DCP analysis\n",
    "\n",
    "In this exercise, you will fix optimization problems that break the DCP rules by identifying the DCP error and then rewriting the problem."
   ]
  },
  {
   "cell_type": "code",
   "execution_count": 1,
   "metadata": {
    "scrolled": true
   },
   "outputs": [
    {
     "name": "stdout",
     "output_type": "stream",
     "text": [
      "expression curvature = UNKNOWN\n",
      "expression sign = NONNEGATIVE\n",
      "expression is DCP? False\n",
      "expression curvature = CONVEX\n",
      "expression sign = NONNEGATIVE\n",
      "expression is DCP? True\n"
     ]
    },
    {
     "data": {
      "text/plain": [
       "0.9999999897658776"
      ]
     },
     "execution_count": 1,
     "metadata": {},
     "output_type": "execute_result"
    }
   ],
   "source": [
    "# Problem 1.\n",
    "import cvxpy as cvx\n",
    "\n",
    "x = cvx.Variable()\n",
    "cost = (x**2 + 1)**0.5\n",
    "prob = cvx.Problem(cvx.Minimize(cost))\n",
    "\n",
    "# TODO explain why the problem isn't DCP and rewrite it to satisfy DCP.\n",
    "print(\"expression curvature =\", cost.curvature) # cost curvature is not convex\n",
    "print(\"expression sign =\", cost.sign)\n",
    "print(\"expression is DCP?\", cost.is_dcp())\n",
    "\n",
    "# Rewrite the cost function\n",
    "cost = (x**2 + 1)**2\n",
    "print(\"expression curvature =\", cost.curvature)\n",
    "print(\"expression sign =\", cost.sign)\n",
    "print(\"expression is DCP?\", cost.is_dcp())\n",
    "\n",
    "prob = cvx.Problem(cvx.Minimize(cost))\n",
    "prob.solve()\n"
   ]
  },
  {
   "cell_type": "code",
   "execution_count": 2,
   "metadata": {},
   "outputs": [
    {
     "name": "stdout",
     "output_type": "stream",
     "text": [
      "expression curvature = CONVEX\n"
     ]
    },
    {
     "data": {
      "text/plain": [
       "2.399999999391788"
      ]
     },
     "execution_count": 2,
     "metadata": {},
     "output_type": "execute_result"
    }
   ],
   "source": [
    "# Problem 2.\n",
    "import cvxpy as cvx\n",
    "\n",
    "x = cvx.Variable()\n",
    "prob = cvx.Problem(cvx.Minimize(x + 2),\n",
    "                   [5 == 2*cvx.inv_pos(x)])\n",
    "\n",
    "# TODO explain why the problem isn't DCP and rewrite it to satisfy DCP.\n",
    "expr = 2*cvx.inv_pos(x)\n",
    "print(\"expression curvature =\", expr.curvature) # An equality constraint constructed using == must have both sides affine.\n",
    "\n",
    "# Change to a greater-than inequality constraint where the left side is concave and the right side is convex.\n",
    "constraints = [5 >= 2*cvx.inv_pos(x)] \n",
    "prob = cvx.Problem(cvx.Minimize(x + 2),\n",
    "                   constraints)\n",
    "\n",
    "prob.solve()"
   ]
  },
  {
   "cell_type": "code",
   "execution_count": 3,
   "metadata": {},
   "outputs": [
    {
     "name": "stdout",
     "output_type": "stream",
     "text": [
      "expression curvature = CONVEX\n"
     ]
    },
    {
     "data": {
      "text/plain": [
       "2.6324555316477243"
      ]
     },
     "execution_count": 3,
     "metadata": {},
     "output_type": "execute_result"
    }
   ],
   "source": [
    "# Problem 3.\n",
    "import cvxpy as cvx\n",
    "\n",
    "x = cvx.Variable()\n",
    "prob = cvx.Problem(cvx.Minimize(x + 2),\n",
    "                   [5 <= 2*x**-2])\n",
    "\n",
    "# TODO explain why the problem isn't DCP and rewrite it to satisfy DCP.\n",
    "expr = 2*x**-2\n",
    "# A less-than inequality constraint must have the left side convex and the right side concave.\n",
    "print(\"expression curvature =\", expr.curvature) \n",
    "\n",
    "# Change to a greater-than inequality constraint, using >=, where the left side is concave and the right side is convex.\n",
    "prob = cvx.Problem(cvx.Minimize(x + 2),\n",
    "                   [5 >= 2*x**-2])\n",
    "prob.solve()\n"
   ]
  },
  {
   "cell_type": "code",
   "execution_count": 4,
   "metadata": {},
   "outputs": [
    {
     "name": "stdout",
     "output_type": "stream",
     "text": [
      "expression curvature = CONVEX\n"
     ]
    },
    {
     "data": {
      "text/plain": [
       "2.3520560025414123e-11"
      ]
     },
     "execution_count": 4,
     "metadata": {},
     "output_type": "execute_result"
    }
   ],
   "source": [
    "# Problem 4.\n",
    "import cvxpy as cvx\n",
    "\n",
    "x = cvx.Variable()\n",
    "y = cvx.Variable()\n",
    "prob = cvx.Problem(cvx.Minimize(cvx.pos(x)),\n",
    "                   [0 <= cvx.quad_over_lin(x,y),\n",
    "                    y >= 1])\n",
    "\n",
    "# TODO explain why the problem isn't DCP and rewrite it to satisfy DCP.\n",
    "expr = cvx.quad_over_lin(x,y)\n",
    "# A less-than inequality constraint must have the left side convex and the right side concave.\n",
    "print(\"expression curvature =\", expr.curvature) \n",
    "\n",
    "# Change to a greater-than inequality constraint, using >=, where the left side is concave and the right side is convex.\n",
    "prob = cvx.Problem(cvx.Minimize(cvx.pos(x)),\n",
    "                   [0 >= cvx.quad_over_lin(x,y),\n",
    "                    y >= 1])\n",
    "prob.solve()"
   ]
  },
  {
   "cell_type": "code",
   "execution_count": 5,
   "metadata": {},
   "outputs": [
    {
     "name": "stdout",
     "output_type": "stream",
     "text": [
      "expression curvature = CONVEX\n",
      "expression curvature = CONVEX\n"
     ]
    },
    {
     "data": {
      "text/plain": [
       "-inf"
      ]
     },
     "execution_count": 5,
     "metadata": {},
     "output_type": "execute_result"
    }
   ],
   "source": [
    "# Problem 5.\n",
    "import cvxpy as cvx\n",
    "\n",
    "x = cvx.Variable()\n",
    "prob = cvx.Problem(cvx.Minimize(x + 2),\n",
    "                   [cvx.exp(2*x) + cvx.exp(3*x) <= cvx.exp(5*x)])\n",
    "\n",
    "# TODO explain why the problem isn't DCP and rewrite it to satisfy DCP.\n",
    "expr1 = cvx.exp(2*x) + cvx.exp(3*x)\n",
    "expr2 = cvx.exp(5*x)\n",
    "# A less-than inequality constraint must have the left side convex and the right side concave.\n",
    "print(\"expression curvature =\", expr1.curvature) \n",
    "print(\"expression curvature =\", expr2.curvature) \n",
    "\n",
    "# Change the right side to concave\n",
    "prob = cvx.Problem(cvx.Minimize(x + 2),\n",
    "                   [cvx.exp(2*x) + cvx.exp(3*x) <= -cvx.exp(5*x)])\n",
    "\n",
    "prob.solve()"
   ]
  },
  {
   "cell_type": "code",
   "execution_count": 6,
   "metadata": {},
   "outputs": [
    {
     "name": "stdout",
     "output_type": "stream",
     "text": [
      "expression curvature = UNKNOWN\n",
      "expression sign = NONPOSITIVE\n",
      "expression is DCP? False\n",
      "expression curvature = CONCAVE\n",
      "expression sign = NONPOSITIVE\n",
      "expression is DCP? True\n"
     ]
    },
    {
     "data": {
      "text/plain": [
       "-48.95414388867273"
      ]
     },
     "execution_count": 6,
     "metadata": {},
     "output_type": "execute_result"
    }
   ],
   "source": [
    "# Bonus problem. Do this for extra credit.\n",
    "import cvxpy as cvx\n",
    "import numpy as np\n",
    "\n",
    "x = cvx.Variable()\n",
    "prob = cvx.Problem(cvx.Maximize( -(cvx.maximum(x, 4) - 3)**2 ),\n",
    "                   [x >= 1])\n",
    "\n",
    "# TODO explain why the problem isn't DCP and rewrite it to satisfy DCP.\n",
    "cost = -(cvx.maximum(x, 4) - 3)**2\n",
    "print(\"expression curvature =\", cost.curvature) # cost curvature is not concave\n",
    "print(\"expression sign =\", cost.sign)\n",
    "print(\"expression is DCP?\", cost.is_dcp())\n",
    "\n",
    "cost = -(cvx.maximum(x, 4) + 3)**2\n",
    "print(\"expression curvature =\", cost.curvature)\n",
    "print(\"expression sign =\", cost.sign)\n",
    "print(\"expression is DCP?\", cost.is_dcp())\n",
    "\n",
    "prob = cvx.Problem(cvx.Maximize( -(cvx.maximum(x, 4) + 3)**2 ),\n",
    "                   [x >= 1])\n",
    "prob.solve()\n"
   ]
  },
  {
   "cell_type": "code",
   "execution_count": 7,
   "metadata": {},
   "outputs": [
    {
     "name": "stdout",
     "output_type": "stream",
     "text": [
      "expression curvature = UNKNOWN\n",
      "expression sign = UNKNOWN\n",
      "expression is DCP? False\n",
      "expression curvature = CONVEX\n",
      "expression sign = UNKNOWN\n",
      "expression is DCP? True\n"
     ]
    },
    {
     "data": {
      "text/plain": [
       "-inf"
      ]
     },
     "execution_count": 7,
     "metadata": {},
     "output_type": "execute_result"
    }
   ],
   "source": [
    "# Bonus problem. Do this for extra credit.\n",
    "# This is a real problem from the CVXPY forum.\n",
    "import cvxpy as cvx\n",
    "import numpy as np\n",
    "m = 10\n",
    "np.random.seed(1)\n",
    "c = np.random.randn(m,1)\n",
    "c = np.abs(c) # Important: This is nonnegative.\n",
    "u = np.random.randn(m,1)\n",
    "u = np.abs(u) # Important: This is nonnegative.\n",
    "\n",
    "x = cvx.Variable(m)\n",
    "cost = sum([c[i]*x[i]*cvx.inv_pos(u[i] - x[i]) for i in range(m)])\n",
    "\n",
    "# TODO explain why the problem isn't DCP and rewrite it to satisfy DCP.\n",
    "print(\"expression curvature =\", cost.curvature) # cost is not convex\n",
    "print(\"expression sign =\", cost.sign)\n",
    "print(\"expression is DCP?\", cost.is_dcp())\n",
    "\n",
    "cost = sum([c[i]*x[i] + cvx.inv_pos(u[i] - x[i]) for i in range(m)])\n",
    "print(\"expression curvature =\", cost.curvature)\n",
    "print(\"expression sign =\", cost.sign)\n",
    "print(\"expression is DCP?\", cost.is_dcp())\n",
    "\n",
    "prob = cvx.Problem(cvx.Minimize(cost))\n",
    "prob.solve()"
   ]
  },
  {
   "cell_type": "code",
   "execution_count": null,
   "metadata": {},
   "outputs": [],
   "source": []
  }
 ],
 "metadata": {
  "kernelspec": {
   "display_name": "Python 3",
   "language": "python",
   "name": "python3"
  },
  "language_info": {
   "codemirror_mode": {
    "name": "ipython",
    "version": 3
   },
   "file_extension": ".py",
   "mimetype": "text/x-python",
   "name": "python",
   "nbconvert_exporter": "python",
   "pygments_lexer": "ipython3",
   "version": "3.6.5"
  }
 },
 "nbformat": 4,
 "nbformat_minor": 1
}
