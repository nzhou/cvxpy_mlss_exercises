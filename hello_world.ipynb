{
 "cells": [
  {
   "cell_type": "markdown",
   "metadata": {},
   "source": [
    "# Hello, world!\n",
    "\n",
    "Solve the following optimization problem using CVXPY:\n",
    "\n",
    "\\begin{array}{ll} \\mbox{minimize} & |x| - 2\\sqrt{y}\\\\\n",
    "\\mbox{subject to} & 2 \\geq e^x \\\\\n",
    "& x + y = 5,\n",
    "\\end{array}\n",
    "\n",
    "where $x,y \\in \\mathbf{R}$ are variables.\n",
    "\n",
    "Find the optimal values of $x$ and $y$."
   ]
  },
  {
   "cell_type": "code",
   "execution_count": 1,
   "metadata": {},
   "outputs": [],
   "source": [
    "import cvxpy as cvx"
   ]
  },
  {
   "cell_type": "code",
   "execution_count": 5,
   "metadata": {},
   "outputs": [
    {
     "data": {
      "text/plain": [
       "-4.472135931296411"
      ]
     },
     "execution_count": 5,
     "metadata": {},
     "output_type": "execute_result"
    }
   ],
   "source": [
    "x = cvx.Variable()\n",
    "y = cvx.Variable()\n",
    "prob = cvx.Problem(cvx.Minimize(cvx.abs(x) - 2*cvx.sqrt(y)), \n",
    "            constraints = [cvx.exp(x) <= 2, x + y == 5])\n",
    "prob.solve()"
   ]
  },
  {
   "cell_type": "code",
   "execution_count": null,
   "metadata": {},
   "outputs": [],
   "source": []
  }
 ],
 "metadata": {
  "kernelspec": {
   "display_name": "Python 3",
   "language": "python",
   "name": "python3"
  },
  "language_info": {
   "codemirror_mode": {
    "name": "ipython",
    "version": 3
   },
   "file_extension": ".py",
   "mimetype": "text/x-python",
   "name": "python",
   "nbconvert_exporter": "python",
   "pygments_lexer": "ipython3",
   "version": "3.6.5"
  }
 },
 "nbformat": 4,
 "nbformat_minor": 1
}
